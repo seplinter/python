{
 "cells": [
  {
   "cell_type": "code",
   "execution_count": 9,
   "id": "79f24b90",
   "metadata": {},
   "outputs": [],
   "source": [
    "name = 'oussama'"
   ]
  },
  {
   "cell_type": "code",
   "execution_count": 17,
   "id": "51cb55d8",
   "metadata": {},
   "outputs": [],
   "source": [
    "last=name[1:]"
   ]
  },
  {
   "cell_type": "code",
   "execution_count": 18,
   "id": "3063250d",
   "metadata": {},
   "outputs": [
    {
     "data": {
      "text/plain": [
       "'ussama'"
      ]
     },
     "execution_count": 18,
     "metadata": {},
     "output_type": "execute_result"
    }
   ],
   "source": [
    "last"
   ]
  },
  {
   "cell_type": "code",
   "execution_count": 19,
   "id": "df84b389",
   "metadata": {},
   "outputs": [],
   "source": [
    "first='O'"
   ]
  },
  {
   "cell_type": "code",
   "execution_count": 20,
   "id": "5afb9200",
   "metadata": {},
   "outputs": [],
   "source": [
    "full=first+last"
   ]
  },
  {
   "cell_type": "code",
   "execution_count": 22,
   "id": "ac65d074",
   "metadata": {},
   "outputs": [
    {
     "data": {
      "text/plain": [
       "'Oussama'"
      ]
     },
     "execution_count": 22,
     "metadata": {},
     "output_type": "execute_result"
    }
   ],
   "source": [
    "full"
   ]
  },
  {
   "cell_type": "code",
   "execution_count": 23,
   "id": "5ec7af4e",
   "metadata": {},
   "outputs": [
    {
     "data": {
      "text/plain": [
       "'OussamaOussama'"
      ]
     },
     "execution_count": 23,
     "metadata": {},
     "output_type": "execute_result"
    }
   ],
   "source": [
    "full * 2"
   ]
  },
  {
   "cell_type": "code",
   "execution_count": 24,
   "id": "29cabec6",
   "metadata": {},
   "outputs": [
    {
     "data": {
      "text/plain": [
       "'Oussama'"
      ]
     },
     "execution_count": 24,
     "metadata": {},
     "output_type": "execute_result"
    }
   ],
   "source": [
    "full"
   ]
  },
  {
   "cell_type": "code",
   "execution_count": 25,
   "id": "8cf4cd83",
   "metadata": {},
   "outputs": [],
   "source": [
    "full = full + ' '"
   ]
  },
  {
   "cell_type": "code",
   "execution_count": 26,
   "id": "bebf8b94",
   "metadata": {},
   "outputs": [
    {
     "data": {
      "text/plain": [
       "'Oussama Oussama '"
      ]
     },
     "execution_count": 26,
     "metadata": {},
     "output_type": "execute_result"
    }
   ],
   "source": [
    "full * 2"
   ]
  },
  {
   "cell_type": "code",
   "execution_count": 28,
   "id": "43274ee9",
   "metadata": {},
   "outputs": [],
   "source": [
    "full = full + ''"
   ]
  },
  {
   "cell_type": "code",
   "execution_count": 29,
   "id": "d4f54728",
   "metadata": {},
   "outputs": [
    {
     "data": {
      "text/plain": [
       "'Oussama '"
      ]
     },
     "execution_count": 29,
     "metadata": {},
     "output_type": "execute_result"
    }
   ],
   "source": [
    "full"
   ]
  },
  {
   "cell_type": "code",
   "execution_count": 30,
   "id": "f89e817a",
   "metadata": {},
   "outputs": [],
   "source": [
    "full = full[0:7]"
   ]
  },
  {
   "cell_type": "code",
   "execution_count": 32,
   "id": "4133210d",
   "metadata": {},
   "outputs": [],
   "source": [
    "full='hello my name is oussama'"
   ]
  },
  {
   "cell_type": "code",
   "execution_count": 33,
   "id": "70938431",
   "metadata": {},
   "outputs": [
    {
     "data": {
      "text/plain": [
       "['hello', 'my', 'name', 'is', 'oussama']"
      ]
     },
     "execution_count": 33,
     "metadata": {},
     "output_type": "execute_result"
    }
   ],
   "source": [
    "full.split()"
   ]
  },
  {
   "cell_type": "code",
   "execution_count": 34,
   "id": "ae8b3f3c",
   "metadata": {},
   "outputs": [],
   "source": [
    "tab=full.split()"
   ]
  },
  {
   "cell_type": "code",
   "execution_count": 35,
   "id": "3873ef95",
   "metadata": {},
   "outputs": [
    {
     "data": {
      "text/plain": [
       "['hello', 'my', 'name', 'is', 'oussama']"
      ]
     },
     "execution_count": 35,
     "metadata": {},
     "output_type": "execute_result"
    }
   ],
   "source": [
    "tab"
   ]
  },
  {
   "cell_type": "code",
   "execution_count": null,
   "id": "66248164",
   "metadata": {},
   "outputs": [],
   "source": []
  }
 ],
 "metadata": {
  "kernelspec": {
   "display_name": "Python 3 (ipykernel)",
   "language": "python",
   "name": "python3"
  },
  "language_info": {
   "codemirror_mode": {
    "name": "ipython",
    "version": 3
   },
   "file_extension": ".py",
   "mimetype": "text/x-python",
   "name": "python",
   "nbconvert_exporter": "python",
   "pygments_lexer": "ipython3",
   "version": "3.9.12"
  }
 },
 "nbformat": 4,
 "nbformat_minor": 5
}
