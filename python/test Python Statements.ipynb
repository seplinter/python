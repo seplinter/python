{
 "cells": [
  {
   "cell_type": "markdown",
   "id": "3564989e",
   "metadata": {},
   "source": [
    "use for ,split(),and if to create a statement that will print out words that start with  's'"
   ]
  },
  {
   "cell_type": "code",
   "execution_count": 52,
   "id": "ab407757",
   "metadata": {},
   "outputs": [],
   "source": [
    "st='print only the words that Start with s in this sentence'"
   ]
  },
  {
   "cell_type": "code",
   "execution_count": 53,
   "id": "6d1017eb",
   "metadata": {},
   "outputs": [
    {
     "name": "stdout",
     "output_type": "stream",
     "text": [
      "Start\n",
      "s\n",
      "sentence\n"
     ]
    }
   ],
   "source": [
    "for a in st.split():\n",
    "    if a[0]=='s' or a[0]=='S' :\n",
    "        print(a)"
   ]
  },
  {
   "cell_type": "code",
   "execution_count": 54,
   "id": "06289a92",
   "metadata": {},
   "outputs": [
    {
     "name": "stdout",
     "output_type": "stream",
     "text": [
      "Start\n",
      "s\n",
      "sentence\n"
     ]
    }
   ],
   "source": [
    "for a in st.split():\n",
    "    if a[0].lower() =='s' :\n",
    "        print(a)"
   ]
  },
  {
   "cell_type": "markdown",
   "id": "814a8d94",
   "metadata": {},
   "source": [
    "use range to print out all the even numbers from 0 to 10"
   ]
  },
  {
   "cell_type": "code",
   "execution_count": 56,
   "id": "4ee4a37c",
   "metadata": {},
   "outputs": [
    {
     "name": "stdout",
     "output_type": "stream",
     "text": [
      "0\n",
      "2\n",
      "4\n",
      "6\n",
      "8\n",
      "10\n"
     ]
    },
    {
     "data": {
      "text/plain": [
       "[0, 2, 4, 6, 8, 10]"
      ]
     },
     "execution_count": 56,
     "metadata": {},
     "output_type": "execute_result"
    }
   ],
   "source": [
    "for x in range(0,11,2):\n",
    "    print(x)\n",
    "list(range(0,11,2))\n"
   ]
  },
  {
   "cell_type": "markdown",
   "id": "26408f0f",
   "metadata": {},
   "source": [
    "use a list comprehension to create a list of all numbers between 1 and 50 that are divisible by 3"
   ]
  },
  {
   "cell_type": "code",
   "execution_count": 32,
   "id": "b9e527f1",
   "metadata": {},
   "outputs": [],
   "source": [
    "mylist=[x for x in range(0,51) if x%3==0]"
   ]
  },
  {
   "cell_type": "code",
   "execution_count": 33,
   "id": "4379e27c",
   "metadata": {},
   "outputs": [
    {
     "data": {
      "text/plain": [
       "[0, 3, 6, 9, 12, 15, 18, 21, 24, 27, 30, 33, 36, 39, 42, 45, 48]"
      ]
     },
     "execution_count": 33,
     "metadata": {},
     "output_type": "execute_result"
    }
   ],
   "source": [
    "mylist"
   ]
  },
  {
   "cell_type": "markdown",
   "id": "65a29557",
   "metadata": {},
   "source": [
    "go through the string below and if the length of a word is even print \"even\"!"
   ]
  },
  {
   "cell_type": "code",
   "execution_count": 58,
   "id": "1acf864d",
   "metadata": {},
   "outputs": [],
   "source": [
    "st = 'print every word in this sentence that has an even number of letters'"
   ]
  },
  {
   "cell_type": "code",
   "execution_count": 59,
   "id": "49b6a3f2",
   "metadata": {},
   "outputs": [
    {
     "name": "stdout",
     "output_type": "stream",
     "text": [
      "word is even\n",
      "in is even\n",
      "this is even\n",
      "sentence is even\n",
      "that is even\n",
      "an is even\n",
      "even is even\n",
      "number is even\n",
      "of is even\n"
     ]
    }
   ],
   "source": [
    "for x in st.split():\n",
    "    if len(x)%2==0:\n",
    "        print(f'{x} is even')"
   ]
  },
  {
   "cell_type": "markdown",
   "id": "1300fd89",
   "metadata": {},
   "source": [
    "write a program that prints the integers from 1 to 100. but for multiples of three print \"Fizz\" instead of the number , and for the multiples of fives print \"Buzz\". for numbers which are multiples of both three and five print \"FizzBuzz\"."
   ]
  },
  {
   "cell_type": "code",
   "execution_count": 36,
   "id": "e54062b9",
   "metadata": {},
   "outputs": [
    {
     "name": "stdout",
     "output_type": "stream",
     "text": [
      "FizzBuzz\n",
      "1\n",
      "2\n",
      "Fizz\n",
      "4\n",
      "Buzz\n",
      "Fizz\n",
      "7\n",
      "8\n",
      "Fizz\n",
      "Buzz\n",
      "11\n",
      "Fizz\n",
      "13\n",
      "14\n",
      "FizzBuzz\n",
      "16\n",
      "17\n",
      "Fizz\n",
      "19\n",
      "Buzz\n",
      "Fizz\n",
      "22\n",
      "23\n",
      "Fizz\n",
      "Buzz\n",
      "26\n",
      "Fizz\n",
      "28\n",
      "29\n",
      "FizzBuzz\n",
      "31\n",
      "32\n",
      "Fizz\n",
      "34\n",
      "Buzz\n",
      "Fizz\n",
      "37\n",
      "38\n",
      "Fizz\n",
      "Buzz\n",
      "41\n",
      "Fizz\n",
      "43\n",
      "44\n",
      "FizzBuzz\n",
      "46\n",
      "47\n",
      "Fizz\n",
      "49\n",
      "Buzz\n",
      "Fizz\n",
      "52\n",
      "53\n",
      "Fizz\n",
      "Buzz\n",
      "56\n",
      "Fizz\n",
      "58\n",
      "59\n",
      "FizzBuzz\n",
      "61\n",
      "62\n",
      "Fizz\n",
      "64\n",
      "Buzz\n",
      "Fizz\n",
      "67\n",
      "68\n",
      "Fizz\n",
      "Buzz\n",
      "71\n",
      "Fizz\n",
      "73\n",
      "74\n",
      "FizzBuzz\n",
      "76\n",
      "77\n",
      "Fizz\n",
      "79\n",
      "Buzz\n",
      "Fizz\n",
      "82\n",
      "83\n",
      "Fizz\n",
      "Buzz\n",
      "86\n",
      "Fizz\n",
      "88\n",
      "89\n",
      "FizzBuzz\n",
      "91\n",
      "92\n",
      "Fizz\n",
      "94\n",
      "Buzz\n",
      "Fizz\n",
      "97\n",
      "98\n",
      "Fizz\n",
      "Buzz\n"
     ]
    }
   ],
   "source": [
    "for x in range (0,101):\n",
    "    if x %5==0 and x%3==0 :\n",
    "        print('FizzBuzz')\n",
    "    elif x %5==0 and x%3!=0:\n",
    "        print('Buzz')\n",
    "    elif x %5!=0 and x%3==0:\n",
    "        print('Fizz')\n",
    "    else:\n",
    "        print(x)"
   ]
  },
  {
   "cell_type": "markdown",
   "id": "02383ec6",
   "metadata": {},
   "source": [
    "Use list comprehension to create a list of the first letters of every word in the strings below:"
   ]
  },
  {
   "cell_type": "code",
   "execution_count": 41,
   "id": "79da55e0",
   "metadata": {},
   "outputs": [],
   "source": [
    "st ='Create a list of the first letters of every word in this string'"
   ]
  },
  {
   "cell_type": "code",
   "execution_count": 49,
   "id": "543f115a",
   "metadata": {},
   "outputs": [],
   "source": [
    "mylist=[x[0] for x in st.split() ]"
   ]
  },
  {
   "cell_type": "code",
   "execution_count": 50,
   "id": "5b4cb34a",
   "metadata": {},
   "outputs": [
    {
     "data": {
      "text/plain": [
       "['C', 'a', 'l', 'o', 't', 'f', 'l', 'o', 'e', 'w', 'i', 't', 's']"
      ]
     },
     "execution_count": 50,
     "metadata": {},
     "output_type": "execute_result"
    }
   ],
   "source": [
    "mylist"
   ]
  },
  {
   "cell_type": "code",
   "execution_count": null,
   "id": "a766f5b4",
   "metadata": {},
   "outputs": [],
   "source": []
  }
 ],
 "metadata": {
  "kernelspec": {
   "display_name": "Python 3 (ipykernel)",
   "language": "python",
   "name": "python3"
  },
  "language_info": {
   "codemirror_mode": {
    "name": "ipython",
    "version": 3
   },
   "file_extension": ".py",
   "mimetype": "text/x-python",
   "name": "python",
   "nbconvert_exporter": "python",
   "pygments_lexer": "ipython3",
   "version": "3.9.12"
  }
 },
 "nbformat": 4,
 "nbformat_minor": 5
}
