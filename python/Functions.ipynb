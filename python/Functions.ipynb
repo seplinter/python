{
 "cells": [
  {
   "cell_type": "code",
   "execution_count": 6,
   "id": "ad34e92a",
   "metadata": {},
   "outputs": [],
   "source": [
    "def name_function():\n",
    "    print('Hello')    "
   ]
  },
  {
   "cell_type": "code",
   "execution_count": 7,
   "id": "aea58021",
   "metadata": {},
   "outputs": [
    {
     "name": "stdout",
     "output_type": "stream",
     "text": [
      "Hello\n"
     ]
    }
   ],
   "source": [
    "name_function()"
   ]
  },
  {
   "cell_type": "code",
   "execution_count": 10,
   "id": "7024f28b",
   "metadata": {},
   "outputs": [],
   "source": [
    "def name_function(name):\n",
    "    print('Hello '+name)"
   ]
  },
  {
   "cell_type": "code",
   "execution_count": 13,
   "id": "aada39a3",
   "metadata": {},
   "outputs": [
    {
     "name": "stdout",
     "output_type": "stream",
     "text": [
      "Hello Oussama\n"
     ]
    }
   ],
   "source": [
    "name_function('Oussama')\n",
    "    "
   ]
  },
  {
   "cell_type": "code",
   "execution_count": 17,
   "id": "49cd8c37",
   "metadata": {},
   "outputs": [],
   "source": [
    "def say_hello(name='NAME'):\n",
    "    return('Hello '+name)"
   ]
  },
  {
   "cell_type": "code",
   "execution_count": 18,
   "id": "cb1855c7",
   "metadata": {},
   "outputs": [
    {
     "data": {
      "text/plain": [
       "'Hello NAME'"
      ]
     },
     "execution_count": 18,
     "metadata": {},
     "output_type": "execute_result"
    }
   ],
   "source": [
    "say_hello()"
   ]
  },
  {
   "cell_type": "code",
   "execution_count": 19,
   "id": "8e682d5c",
   "metadata": {},
   "outputs": [
    {
     "data": {
      "text/plain": [
       "'Hello sally'"
      ]
     },
     "execution_count": 19,
     "metadata": {},
     "output_type": "execute_result"
    }
   ],
   "source": [
    "say_hello('sally')"
   ]
  },
  {
   "cell_type": "code",
   "execution_count": 20,
   "id": "96f721d8",
   "metadata": {},
   "outputs": [],
   "source": [
    "result=say_hello('oussama')"
   ]
  },
  {
   "cell_type": "code",
   "execution_count": 21,
   "id": "5fd4caa8",
   "metadata": {},
   "outputs": [
    {
     "data": {
      "text/plain": [
       "'Hello oussama'"
      ]
     },
     "execution_count": 21,
     "metadata": {},
     "output_type": "execute_result"
    }
   ],
   "source": [
    "result"
   ]
  },
  {
   "cell_type": "code",
   "execution_count": 22,
   "id": "879ba7ba",
   "metadata": {},
   "outputs": [],
   "source": [
    "def add(n1,n2):\n",
    "    return n1+n2"
   ]
  },
  {
   "cell_type": "code",
   "execution_count": 23,
   "id": "be931079",
   "metadata": {},
   "outputs": [],
   "source": [
    "result=add(5,11)"
   ]
  },
  {
   "cell_type": "code",
   "execution_count": 24,
   "id": "dfc3aa05",
   "metadata": {},
   "outputs": [
    {
     "data": {
      "text/plain": [
       "16"
      ]
     },
     "execution_count": 24,
     "metadata": {},
     "output_type": "execute_result"
    }
   ],
   "source": [
    "result"
   ]
  },
  {
   "cell_type": "code",
   "execution_count": 25,
   "id": "d045ca13",
   "metadata": {},
   "outputs": [],
   "source": [
    "# Find out if the word \"dog\" is in a string?\n"
   ]
  },
  {
   "cell_type": "code",
   "execution_count": 43,
   "id": "d49739b8",
   "metadata": {},
   "outputs": [],
   "source": [
    "def dog_check(ch):\n",
    "    p=0\n",
    "    for x in ch.split():\n",
    "        if x=='dog':\n",
    "            p+=1\n",
    "    if p>0:\n",
    "        print('dog is here')\n",
    "    else:\n",
    "        print('dog not here')\n",
    "            "
   ]
  },
  {
   "cell_type": "code",
   "execution_count": 44,
   "id": "ced3d75a",
   "metadata": {},
   "outputs": [
    {
     "name": "stdout",
     "output_type": "stream",
     "text": [
      "dog not here\n"
     ]
    }
   ],
   "source": [
    "dog_check('hello pepo dOg in not here')"
   ]
  },
  {
   "cell_type": "code",
   "execution_count": 57,
   "id": "ff80831c",
   "metadata": {},
   "outputs": [],
   "source": [
    "def dog_check(ch):\n",
    "    return 'dog' in ch.lower()\n",
    "    \n",
    "            "
   ]
  },
  {
   "cell_type": "code",
   "execution_count": 58,
   "id": "063d6cb5",
   "metadata": {},
   "outputs": [
    {
     "data": {
      "text/plain": [
       "True"
      ]
     },
     "execution_count": 58,
     "metadata": {},
     "output_type": "execute_result"
    }
   ],
   "source": [
    "dog_check('Dog doG')"
   ]
  },
  {
   "cell_type": "code",
   "execution_count": 71,
   "id": "7dcb3f1b",
   "metadata": {},
   "outputs": [],
   "source": [
    "def pig_latin(word):\n",
    "    # check if vowel\n",
    "    first_letter=word[0]\n",
    "    if first_letter in 'aeiou':\n",
    "        pig_word=word+'ay'\n",
    "    else:\n",
    "        pig_word=word[1:]+first_letter+'ay'\n",
    "    return pig_word\n",
    "    \n",
    "    "
   ]
  },
  {
   "cell_type": "code",
   "execution_count": 73,
   "id": "4c7adb00",
   "metadata": {},
   "outputs": [
    {
     "data": {
      "text/plain": [
       "'ordway'"
      ]
     },
     "execution_count": 73,
     "metadata": {},
     "output_type": "execute_result"
    }
   ],
   "source": [
    "pig_latin('word')"
   ]
  },
  {
   "cell_type": "code",
   "execution_count": null,
   "id": "3bbbcdf5",
   "metadata": {},
   "outputs": [],
   "source": []
  }
 ],
 "metadata": {
  "kernelspec": {
   "display_name": "Python 3 (ipykernel)",
   "language": "python",
   "name": "python3"
  },
  "language_info": {
   "codemirror_mode": {
    "name": "ipython",
    "version": 3
   },
   "file_extension": ".py",
   "mimetype": "text/x-python",
   "name": "python",
   "nbconvert_exporter": "python",
   "pygments_lexer": "ipython3",
   "version": "3.9.12"
  }
 },
 "nbformat": 4,
 "nbformat_minor": 5
}
