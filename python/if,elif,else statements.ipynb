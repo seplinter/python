{
 "cells": [
  {
   "cell_type": "code",
   "execution_count": 3,
   "id": "8eef5eaf",
   "metadata": {},
   "outputs": [
    {
     "name": "stdout",
     "output_type": "stream",
     "text": [
      "feed me\n"
     ]
    }
   ],
   "source": [
    "hungry=True\n",
    "if hungry:\n",
    "    print('feed me')\n",
    "else:\n",
    "        print(\"i'm not hungry\")"
   ]
  },
  {
   "cell_type": "code",
   "execution_count": 10,
   "id": "a1cb288c",
   "metadata": {},
   "outputs": [
    {
     "name": "stdout",
     "output_type": "stream",
     "text": [
      "money is cool!\n"
     ]
    }
   ],
   "source": [
    "loc ='bank'\n",
    "if loc=='auto shop':\n",
    "    print(\"cars are cool\")\n",
    "elif loc=='bank':\n",
    "    print('money is cool!')\n",
    "elif loc=='store':\n",
    "    print('food is cool')\n",
    "else:\n",
    "    print(\"i don't know much\")"
   ]
  },
  {
   "cell_type": "code",
   "execution_count": 16,
   "id": "b233fe74",
   "metadata": {},
   "outputs": [
    {
     "name": "stdout",
     "output_type": "stream",
     "text": [
      "hello oussama\n"
     ]
    }
   ],
   "source": [
    "a='oussama'\n",
    "if a=='oussama':\n",
    "    print('hello oussama')\n",
    "elif a=='ahmed':\n",
    "    print('hello ahmed')\n",
    "else:\n",
    "    b=input('donner votre nom ')"
   ]
  },
  {
   "cell_type": "code",
   "execution_count": null,
   "id": "d55b849f",
   "metadata": {},
   "outputs": [],
   "source": []
  }
 ],
 "metadata": {
  "kernelspec": {
   "display_name": "Python 3 (ipykernel)",
   "language": "python",
   "name": "python3"
  },
  "language_info": {
   "codemirror_mode": {
    "name": "ipython",
    "version": 3
   },
   "file_extension": ".py",
   "mimetype": "text/x-python",
   "name": "python",
   "nbconvert_exporter": "python",
   "pygments_lexer": "ipython3",
   "version": "3.9.12"
  }
 },
 "nbformat": 4,
 "nbformat_minor": 5
}
