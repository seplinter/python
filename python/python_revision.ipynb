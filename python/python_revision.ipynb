{
 "cells": [
  {
   "cell_type": "code",
   "execution_count": 16,
   "id": "d1e2e562",
   "metadata": {},
   "outputs": [],
   "source": [
    "dic ={1:'a','fff':'b',3:'c'}"
   ]
  },
  {
   "cell_type": "code",
   "execution_count": 17,
   "id": "564eb1f7",
   "metadata": {},
   "outputs": [
    {
     "data": {
      "text/plain": [
       "{1: 'a', 'fff': 'b', 3: 'c'}"
      ]
     },
     "execution_count": 17,
     "metadata": {},
     "output_type": "execute_result"
    }
   ],
   "source": [
    "dic"
   ]
  },
  {
   "cell_type": "code",
   "execution_count": 14,
   "id": "5edb20f9",
   "metadata": {},
   "outputs": [],
   "source": [
    "L=['a','b','c']"
   ]
  },
  {
   "cell_type": "code",
   "execution_count": 18,
   "id": "c0488851",
   "metadata": {},
   "outputs": [
    {
     "data": {
      "text/plain": [
       "'b'"
      ]
     },
     "execution_count": 18,
     "metadata": {},
     "output_type": "execute_result"
    }
   ],
   "source": [
    "dic['fff']"
   ]
  },
  {
   "cell_type": "markdown",
   "id": "3815d63b",
   "metadata": {},
   "source": [
    "ecrire une fonction comme prend comme input une chaine de caractere et qui renvois la meme chaine avec la derniere lettre en majiscule\n"
   ]
  },
  {
   "cell_type": "code",
   "execution_count": 19,
   "id": "4136fc82",
   "metadata": {},
   "outputs": [],
   "source": [
    "ch='abc'"
   ]
  },
  {
   "cell_type": "code",
   "execution_count": 20,
   "id": "e679e351",
   "metadata": {},
   "outputs": [
    {
     "data": {
      "text/plain": [
       "'abc'"
      ]
     },
     "execution_count": 20,
     "metadata": {},
     "output_type": "execute_result"
    }
   ],
   "source": [
    "ch"
   ]
  },
  {
   "cell_type": "code",
   "execution_count": 22,
   "id": "57962a87",
   "metadata": {},
   "outputs": [
    {
     "data": {
      "text/plain": [
       "'ABC'"
      ]
     },
     "execution_count": 22,
     "metadata": {},
     "output_type": "execute_result"
    }
   ],
   "source": [
    "ch.upper()"
   ]
  },
  {
   "cell_type": "code",
   "execution_count": 23,
   "id": "2f3e3249",
   "metadata": {},
   "outputs": [
    {
     "data": {
      "text/plain": [
       "'abc'"
      ]
     },
     "execution_count": 23,
     "metadata": {},
     "output_type": "execute_result"
    }
   ],
   "source": [
    "ch"
   ]
  },
  {
   "cell_type": "code",
   "execution_count": 24,
   "id": "407eed58",
   "metadata": {},
   "outputs": [],
   "source": [
    "def last_upper(ch):\n",
    "    if len(ch)>1:\n",
    "        return ch[:-1]+ch[-1].upper()\n",
    "    else:\n",
    "        return ch.upper()"
   ]
  },
  {
   "cell_type": "code",
   "execution_count": 25,
   "id": "ab1aee39",
   "metadata": {},
   "outputs": [
    {
     "data": {
      "text/plain": [
       "'abC'"
      ]
     },
     "execution_count": 25,
     "metadata": {},
     "output_type": "execute_result"
    }
   ],
   "source": [
    "ch='abc'\n",
    "\n",
    "last_upper(ch)"
   ]
  },
  {
   "cell_type": "code",
   "execution_count": 26,
   "id": "91a8c776",
   "metadata": {},
   "outputs": [
    {
     "data": {
      "text/plain": [
       "'ab'"
      ]
     },
     "execution_count": 26,
     "metadata": {},
     "output_type": "execute_result"
    }
   ],
   "source": [
    "ch[:-1]"
   ]
  },
  {
   "cell_type": "code",
   "execution_count": 27,
   "id": "2f3936bb",
   "metadata": {},
   "outputs": [],
   "source": [
    "LM=lambda ch: ch[:-1]+ch[-1] if len(ch)>1 else ch.upper()"
   ]
  },
  {
   "cell_type": "code",
   "execution_count": 28,
   "id": "b506ffec",
   "metadata": {},
   "outputs": [],
   "source": [
    "L=['abc','test','pop','killo']"
   ]
  },
  {
   "cell_type": "code",
   "execution_count": 29,
   "id": "d7d59ebe",
   "metadata": {},
   "outputs": [
    {
     "name": "stdout",
     "output_type": "stream",
     "text": [
      "['abC', 'tesT', 'poP', 'killO']\n"
     ]
    }
   ],
   "source": [
    "LL=[]\n",
    "for l in L:\n",
    "    LL.append(last_upper(l))\n",
    "print(LL)"
   ]
  },
  {
   "cell_type": "code",
   "execution_count": 31,
   "id": "4e9e5011",
   "metadata": {},
   "outputs": [
    {
     "data": {
      "text/plain": [
       "['abC', 'tesT', 'poP', 'killO']"
      ]
     },
     "execution_count": 31,
     "metadata": {},
     "output_type": "execute_result"
    }
   ],
   "source": [
    "[last_upper(l) for l in L]"
   ]
  },
  {
   "cell_type": "code",
   "execution_count": 32,
   "id": "9a9cadd2",
   "metadata": {},
   "outputs": [
    {
     "data": {
      "text/plain": [
       "[2500, 2601, 2704, 2809, 2916, 3025, 3136, 3249, 3364, 3481, 3600, 3721]"
      ]
     },
     "execution_count": 32,
     "metadata": {},
     "output_type": "execute_result"
    }
   ],
   "source": [
    "[ x**2 for x in range(50,62)]"
   ]
  },
  {
   "cell_type": "code",
   "execution_count": 33,
   "id": "adc4126b",
   "metadata": {},
   "outputs": [
    {
     "data": {
      "text/plain": [
       "['abC', 'tesT', 'poP', 'killO']"
      ]
     },
     "execution_count": 33,
     "metadata": {},
     "output_type": "execute_result"
    }
   ],
   "source": [
    "list(map(last_upper,L))"
   ]
  },
  {
   "cell_type": "code",
   "execution_count": 34,
   "id": "db9c0fbb",
   "metadata": {},
   "outputs": [],
   "source": [
    "from functools import reduce"
   ]
  },
  {
   "cell_type": "code",
   "execution_count": 35,
   "id": "fa6eab31",
   "metadata": {},
   "outputs": [],
   "source": [
    "List=[12,3,4,21,4,1234,432,1231]"
   ]
  },
  {
   "cell_type": "code",
   "execution_count": 37,
   "id": "364ee7f9",
   "metadata": {},
   "outputs": [
    {
     "data": {
      "text/plain": [
       "3"
      ]
     },
     "execution_count": 37,
     "metadata": {},
     "output_type": "execute_result"
    }
   ],
   "source": [
    "min(List)"
   ]
  },
  {
   "cell_type": "code",
   "execution_count": 41,
   "id": "9ab96d42",
   "metadata": {},
   "outputs": [
    {
     "name": "stdout",
     "output_type": "stream",
     "text": [
      "3\n"
     ]
    }
   ],
   "source": [
    "m=List[0]\n",
    "for l in List:\n",
    "    if l<m:\n",
    "        m=l\n",
    "print(m)"
   ]
  },
  {
   "cell_type": "code",
   "execution_count": 42,
   "id": "061b11df",
   "metadata": {},
   "outputs": [
    {
     "data": {
      "text/plain": [
       "3"
      ]
     },
     "execution_count": 42,
     "metadata": {},
     "output_type": "execute_result"
    }
   ],
   "source": [
    "reduce(lambda x,y:x if x<=y else y,List)"
   ]
  },
  {
   "cell_type": "code",
   "execution_count": 43,
   "id": "72afd310",
   "metadata": {},
   "outputs": [
    {
     "data": {
      "text/plain": [
       "2941"
      ]
     },
     "execution_count": 43,
     "metadata": {},
     "output_type": "execute_result"
    }
   ],
   "source": [
    "reduce(lambda x,y:x+y,List)"
   ]
  },
  {
   "cell_type": "code",
   "execution_count": 45,
   "id": "89615efb",
   "metadata": {},
   "outputs": [],
   "source": [
    "M=['abc','test','pop','killo']"
   ]
  },
  {
   "cell_type": "code",
   "execution_count": 46,
   "id": "ee454883",
   "metadata": {},
   "outputs": [
    {
     "data": {
      "text/plain": [
       "'abctestpopkillo'"
      ]
     },
     "execution_count": 46,
     "metadata": {},
     "output_type": "execute_result"
    }
   ],
   "source": [
    "reduce(lambda x,y:x+y,M)"
   ]
  },
  {
   "cell_type": "code",
   "execution_count": null,
   "id": "4bd01d1a",
   "metadata": {},
   "outputs": [],
   "source": []
  }
 ],
 "metadata": {
  "kernelspec": {
   "display_name": "Python 3 (ipykernel)",
   "language": "python",
   "name": "python3"
  },
  "language_info": {
   "codemirror_mode": {
    "name": "ipython",
    "version": 3
   },
   "file_extension": ".py",
   "mimetype": "text/x-python",
   "name": "python",
   "nbconvert_exporter": "python",
   "pygments_lexer": "ipython3",
   "version": "3.9.12"
  }
 },
 "nbformat": 4,
 "nbformat_minor": 5
}
